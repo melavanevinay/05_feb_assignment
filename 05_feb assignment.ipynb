{
 "cells": [
  {
   "cell_type": "markdown",
   "id": "817d2fd0-2644-46cf-bb0c-c8cb338df676",
   "metadata": {},
   "source": [
    "# Assignment No : 5"
   ]
  },
  {
   "cell_type": "markdown",
   "id": "8c489072-f924-4a83-bc04-92425af11d61",
   "metadata": {},
   "source": [
    "# Q1. Explain Class and Object with respect to Object-Oriented Programming. Give a suitable example."
   ]
  },
  {
   "cell_type": "markdown",
   "id": "ca27656c-e84e-4f8c-8b6e-758635c8dd0e",
   "metadata": {},
   "source": [
    "## Class:\n",
    "##  Class is like object constructor, or we can say blueprint for creating the objects. Class provides means of packing up the data and functionality together."
   ]
  },
  {
   "cell_type": "markdown",
   "id": "73cfb24e-5f70-45d8-ae06-40c8e3358d1f",
   "metadata": {},
   "source": [
    "\n",
    "## Object : "
   ]
  },
  {
   "cell_type": "markdown",
   "id": "a6d6b071-5c88-44da-abb5-41ab6ef24131",
   "metadata": {},
   "source": [
    "## Object is an occurance of class. Class is blueprint while instance or occurance is copy of the class with actual values."
   ]
  },
  {
   "cell_type": "markdown",
   "id": "81730a52-721b-4020-b5d8-675980707b6f",
   "metadata": {},
   "source": [
    "## Example : "
   ]
  },
  {
   "cell_type": "code",
   "execution_count": 15,
   "id": "622ed430-f4e5-4efe-94a4-6b8f9a2c14bd",
   "metadata": {},
   "outputs": [],
   "source": [
    "class employee:\n",
    "    name = \"Vinay\"\n",
    "    occupation = \"Data Scientist\"\n",
    "    package = \"20 LPA\"\n",
    "    \n",
    "    def info(self):\n",
    "        print(f\"{self.name} is a {self.occupation}. His package is {self.package}\")"
   ]
  },
  {
   "cell_type": "code",
   "execution_count": 16,
   "id": "f0d48d25-1253-4ca1-812b-850a0fcf6f06",
   "metadata": {},
   "outputs": [],
   "source": [
    "employee_1 = employee()\n",
    "employee_2 = employee()\n",
    "employee_3 = employee()\n",
    "\n",
    "employee_1.name = \"Shubham\"\n",
    "employee_1.occupation = \"Bank Manager\"\n",
    "employee_1.package = \"50 LPA\""
   ]
  },
  {
   "cell_type": "markdown",
   "id": "1973b231-94a9-4748-9d40-7be4c0af6854",
   "metadata": {},
   "source": [
    "## In above example, employee is a class and name, occupation, package are passed arguments or data or variables. \n",
    "## while employee_1, employee_2, employee_3 are objects of class employee.\n",
    "## And by using methods employee_1.name, employee_2.occupation etc. we can assign data to variable passed in function."
   ]
  },
  {
   "cell_type": "code",
   "execution_count": 17,
   "id": "4bbe14e3-9c0e-4e82-b4e8-e6f6ea68051d",
   "metadata": {},
   "outputs": [
    {
     "name": "stdout",
     "output_type": "stream",
     "text": [
      "Shubham\n"
     ]
    }
   ],
   "source": [
    "print(employee_1.name)"
   ]
  },
  {
   "cell_type": "markdown",
   "id": "d33d7af8-6a29-4f3f-a3d1-f0cb93f7bc13",
   "metadata": {},
   "source": [
    "# Q2. Name the four pillars of OOPs."
   ]
  },
  {
   "cell_type": "markdown",
   "id": "3fe7c9b7-e784-4b36-8e83-a576bbbe292b",
   "metadata": {},
   "source": [
    "## The four pillars of OOPs are :\n",
    "## 1. Abstraction.\n",
    "## 2. Encapsulation.\n",
    "## 3. Inheritance.\n",
    "## 4. Polymorphism."
   ]
  },
  {
   "cell_type": "markdown",
   "id": "9563df00-b455-424c-986e-9aca4aeaa22f",
   "metadata": {},
   "source": [
    "# Q3. Explain why the __init__() function is used. Give a suitable example."
   ]
  },
  {
   "cell_type": "markdown",
   "id": "3358dfbe-6a49-4250-bfd9-8302b093c047",
   "metadata": {},
   "source": [
    "## init() function :\n",
    "## init() method is constructor in python language. It is unique function that gets called automatically when object of class is created.The main purpose of init() is to initialize or assign the values to the data member of that class."
   ]
  },
  {
   "cell_type": "markdown",
   "id": "cd2f32cf-ff8b-4b15-b844-85d2396ffea1",
   "metadata": {},
   "source": [
    "## Example :"
   ]
  },
  {
   "cell_type": "code",
   "execution_count": 18,
   "id": "f158445e-f276-4e07-b672-cd0d528fbc3a",
   "metadata": {},
   "outputs": [],
   "source": [
    "class car:\n",
    "    def __init__(self,company,model):\n",
    "        self.company = company\n",
    "        self.model = model\n",
    "    \n",
    "    def info(self):\n",
    "        print(f\"{self.company} company has best vehicles in {self.model} type\")"
   ]
  },
  {
   "cell_type": "code",
   "execution_count": 19,
   "id": "aa040541-b464-4eba-a610-00f5be464660",
   "metadata": {},
   "outputs": [],
   "source": [
    "car_1 = car(\"BMW\",\"Sedan\")\n",
    "car_2 = car(\"Audi\",\"SUV\")"
   ]
  },
  {
   "cell_type": "code",
   "execution_count": 20,
   "id": "bc218e6e-fb82-4e47-85b6-1ad2dc0f7bc7",
   "metadata": {},
   "outputs": [
    {
     "name": "stdout",
     "output_type": "stream",
     "text": [
      "BMW company has best vehicles in Sedan type\n"
     ]
    }
   ],
   "source": [
    "car_1.info()"
   ]
  },
  {
   "cell_type": "code",
   "execution_count": 21,
   "id": "6a3dbb22-a0b5-4f26-992a-557f98435317",
   "metadata": {},
   "outputs": [
    {
     "name": "stdout",
     "output_type": "stream",
     "text": [
      "Audi company has best vehicles in SUV type\n"
     ]
    }
   ],
   "source": [
    "car_2.info()"
   ]
  },
  {
   "cell_type": "markdown",
   "id": "2e241bbf-db00-4630-be8e-782fd89d9410",
   "metadata": {},
   "source": [
    "# Q4. Why self is used in OOPs?"
   ]
  },
  {
   "cell_type": "markdown",
   "id": "386270eb-4f2b-4ad5-81ad-6b91fa4de5ba",
   "metadata": {},
   "source": [
    "## Self : \n",
    "## Self parameter is referance to current instance of the class, and it is used to access the variable that belongs to the class.\n",
    "## It must provided as extra parameter inside the method defination. As it is object for which the method is called."
   ]
  },
  {
   "cell_type": "markdown",
   "id": "0111bebd-2f3f-40eb-87ed-6e328e94a49e",
   "metadata": {},
   "source": [
    "# Q5. What is inheritance? Give an example for each type of inheritance."
   ]
  },
  {
   "cell_type": "markdown",
   "id": "92ad5983-4986-467e-ab13-7920eb71cf3d",
   "metadata": {},
   "source": [
    "## When class is derives from another class i.e. parent class, it is called from inheritance. The child class will inherit all the properties and methods and in addition it can have its own properties and methods. This concept is called as inheritrance.\n",
    "## It provides the reusability of the code. It allows to add more features in the class without modifying the parent class."
   ]
  },
  {
   "cell_type": "markdown",
   "id": "be4fb7e4-259a-49a8-82c8-d04947831255",
   "metadata": {},
   "source": [
    "## Types of inheritance are :\n",
    "## 1. Single Inheritance.\n",
    "## 2. Multiple Inheritance.\n",
    "## 3. Multilevel Inheritance.\n",
    "## 4. Hierarchical Inheritance.\n",
    "## 5. Hybrid Inheritance."
   ]
  },
  {
   "cell_type": "markdown",
   "id": "11d507ea-a63b-40b1-9140-0909f53dfe5a",
   "metadata": {},
   "source": [
    "## 1. Single Inheritance :"
   ]
  },
  {
   "cell_type": "markdown",
   "id": "792074ff-9920-4c99-bdb3-4a358fa9bfe3",
   "metadata": {},
   "source": [
    "### Single inheritance enables a child class to inherit the properties of single parent class. Enabling the reusability and addition of new features to existing code."
   ]
  },
  {
   "cell_type": "code",
   "execution_count": 22,
   "id": "9393bcda-a7c6-4cba-ac8b-fc6783b3fbf1",
   "metadata": {},
   "outputs": [],
   "source": [
    "class car:\n",
    "    def __init__(self,company,colour):\n",
    "        self.company = company\n",
    "        self.colour = colour\n",
    "    \n",
    "    def info(self):\n",
    "        print(f\"{self.company} has beautiful cars in {self.colour} colour.\")\n",
    "        \n",
    "class sports(car):\n",
    "    def add_1(self):\n",
    "        print(\"Sporty look makes it more attractive.\")"
   ]
  },
  {
   "cell_type": "code",
   "execution_count": 23,
   "id": "dcf91f9b-26c8-42bb-a073-8fee71777893",
   "metadata": {},
   "outputs": [
    {
     "name": "stdout",
     "output_type": "stream",
     "text": [
      "Farrarri has beautiful cars in Red colour.\n"
     ]
    }
   ],
   "source": [
    "car_1 = car(\"Farrarri\",\"Red\")\n",
    "car_1.info()"
   ]
  },
  {
   "cell_type": "code",
   "execution_count": 24,
   "id": "1fea09a8-bca7-419d-b56c-b5cb89e9cf98",
   "metadata": {},
   "outputs": [
    {
     "name": "stdout",
     "output_type": "stream",
     "text": [
      "BMW has beautiful cars in Black colour.\n",
      "Sporty look makes it more attractive.\n"
     ]
    }
   ],
   "source": [
    "car_2 = sports(\"BMW\",\"Black\")\n",
    "car_2.info()\n",
    "car_2.add_1()"
   ]
  },
  {
   "cell_type": "code",
   "execution_count": 25,
   "id": "4dfdb4c3-83b7-4e83-a90b-fd65e9e31b26",
   "metadata": {},
   "outputs": [
    {
     "name": "stdout",
     "output_type": "stream",
     "text": [
      "Sporty look makes it more attractive.\n"
     ]
    }
   ],
   "source": [
    "car_2.add_1()"
   ]
  },
  {
   "cell_type": "markdown",
   "id": "c2bee200-4f61-4a15-ae6b-2ae6d245760d",
   "metadata": {},
   "source": [
    "## 2. Multiple Inheritance : "
   ]
  },
  {
   "cell_type": "markdown",
   "id": "ddc50903-ec12-4de9-9f3c-26f0a45016a2",
   "metadata": {},
   "source": [
    "### When the class is derived from more than one base class or parent class then it is called as multiple inheritance. In multiple inheritance the properties of parent class are inherited into child class."
   ]
  },
  {
   "cell_type": "code",
   "execution_count": 7,
   "id": "7412c075-12db-467d-b416-f01c04c77d17",
   "metadata": {},
   "outputs": [],
   "source": [
    "class identity:\n",
    "    def disp_name(self):\n",
    "        print(\"Name of employee is Vinay\")\n",
    "        \n",
    "class code:\n",
    "    def disp_code(self):\n",
    "        print(\" Employee code is 102\")\n",
    "        \n",
    "class dept(identity,code):\n",
    "    pass"
   ]
  },
  {
   "cell_type": "code",
   "execution_count": 9,
   "id": "2f1b1bfc-cb6d-4c6d-a132-b37a9cbd8d90",
   "metadata": {},
   "outputs": [
    {
     "name": "stdout",
     "output_type": "stream",
     "text": [
      "Name of employee is Vinay\n"
     ]
    }
   ],
   "source": [
    "info_1 = identity()\n",
    "info_1.disp_name()"
   ]
  },
  {
   "cell_type": "code",
   "execution_count": 10,
   "id": "ec75bf2a-e955-4122-8732-74211221f6d1",
   "metadata": {},
   "outputs": [
    {
     "name": "stdout",
     "output_type": "stream",
     "text": [
      " Employee code is 102\n"
     ]
    }
   ],
   "source": [
    "info_2 = code()\n",
    "info_2.disp_code()"
   ]
  },
  {
   "cell_type": "code",
   "execution_count": 12,
   "id": "8ba8ddca-75a3-4c17-a669-ef5882e79960",
   "metadata": {},
   "outputs": [
    {
     "name": "stdout",
     "output_type": "stream",
     "text": [
      " Employee code is 102\n",
      "Name of employee is Vinay\n"
     ]
    }
   ],
   "source": [
    "info_3 = dept()\n",
    "info_3.disp_code()\n",
    "info_3.disp_name()"
   ]
  },
  {
   "cell_type": "markdown",
   "id": "23b76d63-4145-4f6d-a4e5-3cc03d4b0311",
   "metadata": {},
   "source": [
    "## 3. Multilevel Inheritance :"
   ]
  },
  {
   "cell_type": "markdown",
   "id": "2bceeb72-57f3-4b93-bb24-f2073fb23c4c",
   "metadata": {},
   "source": [
    "### In multilevel inheritance the properties of parent class are inherited into derived class and further inherited into new derived class. It is same as relationship representing grandfather to child."
   ]
  },
  {
   "cell_type": "code",
   "execution_count": 16,
   "id": "72bd3080-da23-43b1-9b97-8b3dc69492e1",
   "metadata": {},
   "outputs": [],
   "source": [
    "class company:\n",
    "    def comp_name(self):\n",
    "        print(\"Company name is Mahindra\")\n",
    "\n",
    "class car(company):\n",
    "    def car_name(self):\n",
    "        print(\"The name of car is XUV 700\")\n",
    "        \n",
    "class model(car):\n",
    "    def model_type(self):\n",
    "        print(\"The model of car belongs to SUV\")\n",
    "        \n"
   ]
  },
  {
   "cell_type": "code",
   "execution_count": 17,
   "id": "6f83a859-2594-432b-8be3-d2132b52f20e",
   "metadata": {},
   "outputs": [
    {
     "name": "stdout",
     "output_type": "stream",
     "text": [
      "Company name is Mahindra\n",
      "The model of car belongs to SUV\n",
      "The name of car is XUV 700\n"
     ]
    }
   ],
   "source": [
    "car_1 = model()\n",
    "car_1.comp_name()\n",
    "car_1.model_type()\n",
    "car_1.car_name()"
   ]
  },
  {
   "cell_type": "markdown",
   "id": "9d2a65ad-409d-40e1-8115-e551994e546b",
   "metadata": {},
   "source": [
    "## 4. Hierarchical Inheritance :"
   ]
  },
  {
   "cell_type": "markdown",
   "id": "3e243b27-69ee-407a-ac8a-9b4faac74c37",
   "metadata": {},
   "source": [
    "### When more than one child class or derived class is created from base class. This type of inheritance is called as hierarchical inheritance"
   ]
  },
  {
   "cell_type": "code",
   "execution_count": 18,
   "id": "d96af7a3-6fef-4d36-99a8-e99098413203",
   "metadata": {},
   "outputs": [],
   "source": [
    "class company :\n",
    "    def comp_name(self):\n",
    "        print(\"Name of company is Google\")\n",
    "        \n",
    "class employee(company):\n",
    "    def emp_name(self):\n",
    "        print(\"Name of employee is Vinay.\")\n",
    "        \n",
    "class code(company):\n",
    "    def emp_code(self):\n",
    "        print(\"Employee code is 007\")\n",
    "        \n",
    "class package(company):\n",
    "    def pac_lpa (self):\n",
    "        print(\"The package is 24 LPA.\")"
   ]
  },
  {
   "cell_type": "code",
   "execution_count": 19,
   "id": "d8a945de-33ce-45f2-96ef-e2db90862c8b",
   "metadata": {},
   "outputs": [
    {
     "name": "stdout",
     "output_type": "stream",
     "text": [
      "Name of company is Google\n"
     ]
    }
   ],
   "source": [
    "sr_1 = company()\n",
    "sr_1.comp_name()\n",
    "\n"
   ]
  },
  {
   "cell_type": "code",
   "execution_count": 20,
   "id": "404bd1fd-bd2a-4a82-ab45-4aa9e8edcf71",
   "metadata": {},
   "outputs": [
    {
     "name": "stdout",
     "output_type": "stream",
     "text": [
      "Name of company is Google\n",
      "Name of employee is Vinay.\n"
     ]
    }
   ],
   "source": [
    "sr_2 = employee()\n",
    "sr_2.comp_name()\n",
    "sr_2.emp_name()"
   ]
  },
  {
   "cell_type": "code",
   "execution_count": 21,
   "id": "4264055d-7128-466d-adde-60cc5a53c5ea",
   "metadata": {},
   "outputs": [
    {
     "name": "stdout",
     "output_type": "stream",
     "text": [
      "Name of company is Google\n",
      "Employee code is 007\n"
     ]
    }
   ],
   "source": [
    "sr_3 = code()\n",
    "sr_3.comp_name()\n",
    "sr_3.emp_code()"
   ]
  },
  {
   "cell_type": "code",
   "execution_count": 22,
   "id": "e0aba06b-61ff-4aaf-8671-bfcda6b13a31",
   "metadata": {},
   "outputs": [
    {
     "name": "stdout",
     "output_type": "stream",
     "text": [
      "Name of company is Google\n",
      "The package is 24 LPA.\n"
     ]
    }
   ],
   "source": [
    "sr_4 = package()\n",
    "sr_4.comp_name()\n",
    "sr_4.pac_lpa()"
   ]
  },
  {
   "cell_type": "markdown",
   "id": "142321d5-5add-4527-abdc-011959c49da3",
   "metadata": {},
   "source": [
    "## 5. Hybrid Inheritance : "
   ]
  },
  {
   "cell_type": "markdown",
   "id": "11f2f77d-1263-4742-969b-76a53bd6f0e1",
   "metadata": {},
   "source": [
    "### Inheritance consisting multiple type of"
   ]
  }
 ],
 "metadata": {
  "kernelspec": {
   "display_name": "Python 3 (ipykernel)",
   "language": "python",
   "name": "python3"
  },
  "language_info": {
   "codemirror_mode": {
    "name": "ipython",
    "version": 3
   },
   "file_extension": ".py",
   "mimetype": "text/x-python",
   "name": "python",
   "nbconvert_exporter": "python",
   "pygments_lexer": "ipython3",
   "version": "3.10.8"
  }
 },
 "nbformat": 4,
 "nbformat_minor": 5
}
